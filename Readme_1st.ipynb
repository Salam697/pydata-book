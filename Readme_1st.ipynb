{
 "cells": [
  {
   "cell_type": "code",
   "execution_count": 1,
   "metadata": {},
   "outputs": [],
   "source": [
    "# Wes Mckinney - Python for Data Analysis - pandas book\n",
    "# github chapter examples, requirements list\n",
    "\n",
    "# Jupyter Notebooks: (Carnets Plus | Juno)\n",
    "\n",
    "import numpy as np     # v1.13.3\n",
    "import pandas as pd    # v0.21.0\n",
    "import matplotlib      # v2.1.0\n",
    "import lxml            # v4.6.3   Alternative to html5lib in bs4\n",
    "import scipy           # v1.0.0\n",
    "import sklearn         # v0.19.1"
   ]
  },
  {
   "cell_type": "code",
   "execution_count": 2,
   "metadata": {},
   "outputs": [],
   "source": [
    "# Jupyter Notebooks: (Carnets Plus | - )\n",
    "\n",
    "import seaborn as sns  # v0.8.1"
   ]
  },
  {
   "cell_type": "code",
   "execution_count": 2,
   "metadata": {},
   "outputs": [],
   "source": [
    "# Jupyter Notebooks: ( - | Juno)\n",
    "\n",
    "import statsmodels     # v0.8.0\n",
    "import patsy           # v0.4.1"
   ]
  },
  {
   "cell_type": "code",
   "execution_count": 6,
   "metadata": {},
   "outputs": [],
   "source": [
    "# Jupyter Notebooks: ( - | - )\n",
    "\n",
    "from bs4 import BeautifulSoup"
   ]
  },
  {
   "cell_type": "code",
   "execution_count": null,
   "metadata": {},
   "outputs": [],
   "source": []
  }
 ],
 "metadata": {
  "kernelspec": {
   "display_name": "Python 3",
   "language": "python",
   "name": "python3"
  },
  "language_info": {
   "codemirror_mode": {
    "name": "ipython",
    "version": 3
   },
   "file_extension": ".py",
   "mimetype": "text/x-python",
   "name": "python",
   "nbconvert_exporter": "python",
   "pygments_lexer": "ipython3",
   "version": "3.6.6+"
  }
 },
 "nbformat": 4,
 "nbformat_minor": 2
}
